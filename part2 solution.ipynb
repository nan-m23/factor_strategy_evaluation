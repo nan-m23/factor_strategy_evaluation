{
 "cells": [
  {
   "cell_type": "code",
   "execution_count": 2,
   "metadata": {},
   "outputs": [],
   "source": [
    "import numpy as np\n",
    "import scipy as spy\n",
    "import pandas as pd\n",
    "import matplotlib.pyplot as plt\n",
    "%matplotlib inline\n",
    "import time\n",
    "import warnings\n",
    "warnings.filterwarnings('ignore')"
   ]
  },
  {
   "cell_type": "code",
   "execution_count": 5,
   "metadata": {},
   "outputs": [],
   "source": [
    "returns = pd.read_csv('/Users/nanyueming/Documents/学习/量化策略/弗居投资面试题/Data/returns_20181228.csv',\n",
    "                      index_col = 0,\n",
    "                      parse_dates = True)"
   ]
  },
  {
   "cell_type": "code",
   "execution_count": 6,
   "metadata": {
    "scrolled": true
   },
   "outputs": [
    {
     "data": {
      "text/html": [
       "<div>\n",
       "<style scoped>\n",
       "    .dataframe tbody tr th:only-of-type {\n",
       "        vertical-align: middle;\n",
       "    }\n",
       "\n",
       "    .dataframe tbody tr th {\n",
       "        vertical-align: top;\n",
       "    }\n",
       "\n",
       "    .dataframe thead th {\n",
       "        text-align: right;\n",
       "    }\n",
       "</style>\n",
       "<table border=\"1\" class=\"dataframe\">\n",
       "  <thead>\n",
       "    <tr style=\"text-align: right;\">\n",
       "      <th></th>\n",
       "      <th>stock_0</th>\n",
       "      <th>stock_1</th>\n",
       "      <th>stock_2</th>\n",
       "      <th>stock_3</th>\n",
       "      <th>stock_4</th>\n",
       "      <th>stock_5</th>\n",
       "      <th>stock_6</th>\n",
       "      <th>stock_7</th>\n",
       "      <th>stock_8</th>\n",
       "      <th>stock_9</th>\n",
       "      <th>...</th>\n",
       "      <th>stock_1131</th>\n",
       "      <th>stock_1132</th>\n",
       "      <th>stock_1133</th>\n",
       "      <th>stock_1134</th>\n",
       "      <th>stock_1135</th>\n",
       "      <th>stock_1136</th>\n",
       "      <th>stock_1137</th>\n",
       "      <th>stock_1138</th>\n",
       "      <th>stock_1139</th>\n",
       "      <th>stock_1140</th>\n",
       "    </tr>\n",
       "    <tr>\n",
       "      <th>Date</th>\n",
       "      <th></th>\n",
       "      <th></th>\n",
       "      <th></th>\n",
       "      <th></th>\n",
       "      <th></th>\n",
       "      <th></th>\n",
       "      <th></th>\n",
       "      <th></th>\n",
       "      <th></th>\n",
       "      <th></th>\n",
       "      <th></th>\n",
       "      <th></th>\n",
       "      <th></th>\n",
       "      <th></th>\n",
       "      <th></th>\n",
       "      <th></th>\n",
       "      <th></th>\n",
       "      <th></th>\n",
       "      <th></th>\n",
       "      <th></th>\n",
       "      <th></th>\n",
       "    </tr>\n",
       "  </thead>\n",
       "  <tbody>\n",
       "    <tr>\n",
       "      <th>1990-01-03</th>\n",
       "      <td>-0.561639</td>\n",
       "      <td>0.113423</td>\n",
       "      <td>-1.580584</td>\n",
       "      <td>-0.017527</td>\n",
       "      <td>1.055723</td>\n",
       "      <td>1.306785</td>\n",
       "      <td>-0.692687</td>\n",
       "      <td>1.303057</td>\n",
       "      <td>-0.243042</td>\n",
       "      <td>0.081520</td>\n",
       "      <td>...</td>\n",
       "      <td>1.410213</td>\n",
       "      <td>-0.307705</td>\n",
       "      <td>0.829215</td>\n",
       "      <td>-0.505364</td>\n",
       "      <td>0.232976</td>\n",
       "      <td>-0.393465</td>\n",
       "      <td>-0.471561</td>\n",
       "      <td>-0.308961</td>\n",
       "      <td>-0.202832</td>\n",
       "      <td>-0.205398</td>\n",
       "    </tr>\n",
       "    <tr>\n",
       "      <th>1990-01-04</th>\n",
       "      <td>-1.841947</td>\n",
       "      <td>0.463435</td>\n",
       "      <td>-1.172764</td>\n",
       "      <td>0.513875</td>\n",
       "      <td>2.470817</td>\n",
       "      <td>0.463057</td>\n",
       "      <td>0.427191</td>\n",
       "      <td>-0.737959</td>\n",
       "      <td>1.455408</td>\n",
       "      <td>0.971196</td>\n",
       "      <td>...</td>\n",
       "      <td>-0.656517</td>\n",
       "      <td>-1.327001</td>\n",
       "      <td>0.770307</td>\n",
       "      <td>0.485192</td>\n",
       "      <td>-0.199085</td>\n",
       "      <td>-0.590958</td>\n",
       "      <td>-0.513262</td>\n",
       "      <td>0.369685</td>\n",
       "      <td>-0.549467</td>\n",
       "      <td>0.279644</td>\n",
       "    </tr>\n",
       "    <tr>\n",
       "      <th>1990-01-05</th>\n",
       "      <td>-0.277859</td>\n",
       "      <td>0.216396</td>\n",
       "      <td>-0.429848</td>\n",
       "      <td>0.802112</td>\n",
       "      <td>2.686740</td>\n",
       "      <td>0.059472</td>\n",
       "      <td>-0.895917</td>\n",
       "      <td>-0.785620</td>\n",
       "      <td>0.022776</td>\n",
       "      <td>-1.336882</td>\n",
       "      <td>...</td>\n",
       "      <td>0.098997</td>\n",
       "      <td>0.197211</td>\n",
       "      <td>-2.003799</td>\n",
       "      <td>2.101860</td>\n",
       "      <td>0.442342</td>\n",
       "      <td>-0.677487</td>\n",
       "      <td>-0.955708</td>\n",
       "      <td>0.926602</td>\n",
       "      <td>-0.762952</td>\n",
       "      <td>2.046626</td>\n",
       "    </tr>\n",
       "    <tr>\n",
       "      <th>1990-01-08</th>\n",
       "      <td>-0.881483</td>\n",
       "      <td>1.867996</td>\n",
       "      <td>-1.659936</td>\n",
       "      <td>0.313561</td>\n",
       "      <td>0.868181</td>\n",
       "      <td>-1.923021</td>\n",
       "      <td>-1.788387</td>\n",
       "      <td>2.902709</td>\n",
       "      <td>0.600026</td>\n",
       "      <td>-0.943956</td>\n",
       "      <td>...</td>\n",
       "      <td>-0.366244</td>\n",
       "      <td>0.480905</td>\n",
       "      <td>-0.780784</td>\n",
       "      <td>-0.131875</td>\n",
       "      <td>-0.657870</td>\n",
       "      <td>-1.526045</td>\n",
       "      <td>-0.140225</td>\n",
       "      <td>1.410707</td>\n",
       "      <td>0.168989</td>\n",
       "      <td>0.787590</td>\n",
       "    </tr>\n",
       "    <tr>\n",
       "      <th>1990-01-09</th>\n",
       "      <td>-0.534578</td>\n",
       "      <td>0.413210</td>\n",
       "      <td>0.004407</td>\n",
       "      <td>1.223128</td>\n",
       "      <td>0.972728</td>\n",
       "      <td>1.420754</td>\n",
       "      <td>1.864039</td>\n",
       "      <td>1.564482</td>\n",
       "      <td>0.243046</td>\n",
       "      <td>1.345295</td>\n",
       "      <td>...</td>\n",
       "      <td>1.469816</td>\n",
       "      <td>0.017081</td>\n",
       "      <td>-1.603788</td>\n",
       "      <td>-2.895389</td>\n",
       "      <td>0.540079</td>\n",
       "      <td>-1.126372</td>\n",
       "      <td>-1.737689</td>\n",
       "      <td>1.036790</td>\n",
       "      <td>1.243899</td>\n",
       "      <td>0.069950</td>\n",
       "    </tr>\n",
       "  </tbody>\n",
       "</table>\n",
       "<p>5 rows × 1140 columns</p>\n",
       "</div>"
      ],
      "text/plain": [
       "             stock_0   stock_1   stock_2   stock_3   stock_4   stock_5  \\\n",
       "Date                                                                     \n",
       "1990-01-03 -0.561639  0.113423 -1.580584 -0.017527  1.055723  1.306785   \n",
       "1990-01-04 -1.841947  0.463435 -1.172764  0.513875  2.470817  0.463057   \n",
       "1990-01-05 -0.277859  0.216396 -0.429848  0.802112  2.686740  0.059472   \n",
       "1990-01-08 -0.881483  1.867996 -1.659936  0.313561  0.868181 -1.923021   \n",
       "1990-01-09 -0.534578  0.413210  0.004407  1.223128  0.972728  1.420754   \n",
       "\n",
       "             stock_6   stock_7   stock_8   stock_9  ...  stock_1131  \\\n",
       "Date                                                ...               \n",
       "1990-01-03 -0.692687  1.303057 -0.243042  0.081520  ...    1.410213   \n",
       "1990-01-04  0.427191 -0.737959  1.455408  0.971196  ...   -0.656517   \n",
       "1990-01-05 -0.895917 -0.785620  0.022776 -1.336882  ...    0.098997   \n",
       "1990-01-08 -1.788387  2.902709  0.600026 -0.943956  ...   -0.366244   \n",
       "1990-01-09  1.864039  1.564482  0.243046  1.345295  ...    1.469816   \n",
       "\n",
       "            stock_1132  stock_1133  stock_1134  stock_1135  stock_1136  \\\n",
       "Date                                                                     \n",
       "1990-01-03   -0.307705    0.829215   -0.505364    0.232976   -0.393465   \n",
       "1990-01-04   -1.327001    0.770307    0.485192   -0.199085   -0.590958   \n",
       "1990-01-05    0.197211   -2.003799    2.101860    0.442342   -0.677487   \n",
       "1990-01-08    0.480905   -0.780784   -0.131875   -0.657870   -1.526045   \n",
       "1990-01-09    0.017081   -1.603788   -2.895389    0.540079   -1.126372   \n",
       "\n",
       "            stock_1137  stock_1138  stock_1139  stock_1140  \n",
       "Date                                                        \n",
       "1990-01-03   -0.471561   -0.308961   -0.202832   -0.205398  \n",
       "1990-01-04   -0.513262    0.369685   -0.549467    0.279644  \n",
       "1990-01-05   -0.955708    0.926602   -0.762952    2.046626  \n",
       "1990-01-08   -0.140225    1.410707    0.168989    0.787590  \n",
       "1990-01-09   -1.737689    1.036790    1.243899    0.069950  \n",
       "\n",
       "[5 rows x 1140 columns]"
      ]
     },
     "execution_count": 6,
     "metadata": {},
     "output_type": "execute_result"
    }
   ],
   "source": [
    "returns.head()"
   ]
  },
  {
   "cell_type": "markdown",
   "metadata": {},
   "source": [
    "首先处理数据，将含有0值的股票删掉"
   ]
  },
  {
   "cell_type": "code",
   "execution_count": 37,
   "metadata": {},
   "outputs": [],
   "source": [
    "for stock in returns.columns:\n",
    "    if sum( returns[stock] == 0 ) > 0:\n",
    "        returns.drop(stock , axis = 1 , inplace = True)"
   ]
  },
  {
   "cell_type": "code",
   "execution_count": 38,
   "metadata": {},
   "outputs": [
    {
     "data": {
      "text/plain": [
       "1030"
      ]
     },
     "execution_count": 38,
     "metadata": {},
     "output_type": "execute_result"
    }
   ],
   "source": [
    "len(returns.columns)"
   ]
  },
  {
   "cell_type": "markdown",
   "metadata": {},
   "source": [
    "观察一下单个股票价格走势"
   ]
  },
  {
   "cell_type": "code",
   "execution_count": 83,
   "metadata": {},
   "outputs": [],
   "source": [
    "returns['p0'] = 1.0\n",
    "for i in range(len(returns.index)-1):\n",
    "    returns['p0'][i+1] = returns['p0'][i] + returns['stock_0'][i]"
   ]
  },
  {
   "cell_type": "code",
   "execution_count": 84,
   "metadata": {},
   "outputs": [
    {
     "data": {
      "text/plain": [
       "<AxesSubplot:xlabel='Date'>"
      ]
     },
     "execution_count": 84,
     "metadata": {},
     "output_type": "execute_result"
    },
    {
     "data": {
      "image/png": "[encoded data removed]",
      "text/plain": [
       "<Figure size 432x288 with 1 Axes>"
      ]
     },
     "metadata": {
      "needs_background": "light"
     },
     "output_type": "display_data"
    }
   ],
   "source": [
    "returns['p0'].plot()"
   ]
  },
  {
   "cell_type": "markdown",
   "metadata": {},
   "source": [
    "    根据题目叙述，股票收益率是由动量因子和均值回复因子生成，在一些时段，呈现动量效应，一些时段呈现均值回复效应。"
   ]
  },
  {
   "cell_type": "markdown",
   "metadata": {},
   "source": [
    "    1、首先，需要找到效应转变的时间节点"
   ]
  },
  {
   "cell_type": "markdown",
   "metadata": {},
   "source": [
    "动量效应体现为 正收益大概率跟随正收益"
   ]
  },
  {
   "cell_type": "markdown",
   "metadata": {},
   "source": [
    "按定义来说，首先尝试计算相邻两期的相关系数，为正则为动量效应，为负则为均值回复效应"
   ]
  },
  {
   "cell_type": "code",
   "execution_count": 45,
   "metadata": {},
   "outputs": [],
   "source": [
    "returns['serial_correlation'] = 0.0"
   ]
  },
  {
   "cell_type": "code",
   "execution_count": 46,
   "metadata": {},
   "outputs": [],
   "source": [
    "for i in range(len(returns.index)-1):\n",
    "    ts1 = pd.Series(returns.T[returns.index[i]].values)\n",
    "    ts2 = pd.Series(returns.T[returns.index[i+1]].values)\n",
    "    \n",
    "    corr = ts1.corr(ts2 , method = 'spearman')\n",
    "    returns['serial_correlation'][i+1] = corr"
   ]
  },
  {
   "cell_type": "code",
   "execution_count": 47,
   "metadata": {},
   "outputs": [
    {
     "data": {
      "text/plain": [
       "<AxesSubplot:xlabel='Date'>"
      ]
     },
     "execution_count": 47,
     "metadata": {},
     "output_type": "execute_result"
    },
    {
     "data": {
      "image/png": "[encoded data removed]",
      "text/plain": [
       "<Figure size 432x288 with 1 Axes>"
      ]
     },
     "metadata": {
      "needs_background": "light"
     },
     "output_type": "display_data"
    }
   ],
   "source": [
    "returns['serial_correlation'].plot()"
   ]
  },
  {
   "cell_type": "markdown",
   "metadata": {},
   "source": [
    "已经可以明显观察到效应转换的时间节点"
   ]
  },
  {
   "cell_type": "code",
   "execution_count": 49,
   "metadata": {},
   "outputs": [
    {
     "name": "stdout",
     "output_type": "stream",
     "text": [
      "1992-04-23 00:00:00\n"
     ]
    }
   ],
   "source": [
    "for i in range(len(returns.index)-1):\n",
    "    if returns.serial_correlation[i]>0 and returns.serial_correlation[i+1]<0 :\n",
    "        print(returns.index[i+1])"
   ]
  },
  {
   "cell_type": "markdown",
   "metadata": {},
   "source": [
    "效应转换的时间为1992-4-23"
   ]
  },
  {
   "cell_type": "markdown",
   "metadata": {},
   "source": [
    "    2、接下来计算平均动量。平均动量定义为时段内所有股票的平均回报"
   ]
  },
  {
   "cell_type": "code",
   "execution_count": 64,
   "metadata": {},
   "outputs": [],
   "source": [
    "#这个算法太暴力了\n",
    "\n",
    "#row , col = np.shape(returns[returns.index<'1992-04-23'].values)\n",
    "#stocks_r = []\n",
    "#for i in range(row):\n",
    "#    for j in range(col):\n",
    "#        return_array = returns[returns.index<'1992-04-23'].values\n",
    "#        stocks_r.append(return_array[i][j])"
   ]
  },
  {
   "cell_type": "code",
   "execution_count": 74,
   "metadata": {},
   "outputs": [
    {
     "data": {
      "text/plain": [
       "0.6834443860297916"
      ]
     },
     "execution_count": 74,
     "metadata": {},
     "output_type": "execute_result"
    }
   ],
   "source": [
    "returns[returns.index < '1992-04-23'].mean().mean()"
   ]
  },
  {
   "cell_type": "markdown",
   "metadata": {},
   "source": [
    "动量效应均值：0.68"
   ]
  },
  {
   "cell_type": "code",
   "execution_count": 76,
   "metadata": {},
   "outputs": [
    {
     "data": {
      "text/plain": [
       "0.6812639621620221"
      ]
     },
     "execution_count": 76,
     "metadata": {},
     "output_type": "execute_result"
    }
   ],
   "source": [
    "returns[returns.index >= '1992-04-23'].mean().mean()"
   ]
  },
  {
   "cell_type": "markdown",
   "metadata": {},
   "source": [
    "均值回复效应均值：0.68"
   ]
  },
  {
   "cell_type": "markdown",
   "metadata": {},
   "source": [
    "    3、为什么会出现效应的转换"
   ]
  },
  {
   "cell_type": "markdown",
   "metadata": {},
   "source": [
    "从行为金融学角度来分析，股票价格存在一定规律性。"
   ]
  },
  {
   "cell_type": "markdown",
   "metadata": {},
   "source": [
    "当股票价格因内部原因或市场原因需要进行估值调整时，会进入单边上涨或下跌行情，此时表现为动量效应。"
   ]
  },
  {
   "cell_type": "markdown",
   "metadata": {},
   "source": [
    "在价格调整到位之前，该单边行情不会停止，顺势交易将能获得收益。"
   ]
  },
  {
   "cell_type": "markdown",
   "metadata": {},
   "source": [
    "而价格并不会一次性调整到位，当出现价格超调时，趋势将发生反转。"
   ]
  },
  {
   "cell_type": "markdown",
   "metadata": {},
   "source": [
    "此时单边行情结束，市场进入震荡行情以寻找公允价格，即均值回复效应。"
   ]
  },
  {
   "cell_type": "code",
   "execution_count": null,
   "metadata": {},
   "outputs": [],
   "source": []
  }
 ],
 "metadata": {
  "kernelspec": {
   "display_name": "Python 3",
   "language": "python",
   "name": "python3"
  },
  "language_info": {
   "codemirror_mode": {
    "name": "ipython",
    "version": 3
   },
   "file_extension": ".py",
   "mimetype": "text/x-python",
   "name": "python",
   "nbconvert_exporter": "python",
   "pygments_lexer": "ipython3",
   "version": "3.8.5"
  }
 },
 "nbformat": 4,
 "nbformat_minor": 4
}
